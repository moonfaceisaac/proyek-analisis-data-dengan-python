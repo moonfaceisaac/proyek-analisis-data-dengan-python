{
  "cells": [
    {
      "cell_type": "markdown",
      "metadata": {
        "id": "H9wADwK78DCz"
      },
      "source": [
        "# Proyek Analisis Data: [Input Nama Dataset]\n",
        "- **Nama:** [Thobias Zandisko Panjaitan]\n",
        "- **Email:** [thoxir058@gmail.com]\n",
        "- **ID Dicoding:** [thobiazp]"
      ]
    },
    {
      "cell_type": "markdown",
      "metadata": {
        "id": "eE0raob58DC0"
      },
      "source": [
        "## Menentukan Pertanyaan Bisnis"
      ]
    },
    {
      "cell_type": "markdown",
      "metadata": {
        "id": "GmQeQ5YF8DC0"
      },
      "source": [
        "\n",
        "\n",
        "\n",
        "\n",
        "\n",
        "\n",
        "- Pada kondisi seperti apa yang dapat meraih akumulasi total sepeda berhasil di rental yang paling tinggi?\n",
        "- Apakah terdapat penurunan atau peningkatan tren penggunaan rental sepeda dari 2011 ke 2012"
      ]
    },
    {
      "cell_type": "markdown",
      "metadata": {
        "id": "H-z4QGlO8DC1"
      },
      "source": [
        "## Import Semua Packages/Library yang Digunakan"
      ]
    },
    {
      "cell_type": "code",
      "execution_count": 1,
      "metadata": {
        "id": "FVYwaObI8DC1"
      },
      "outputs": [],
      "source": [
        "import numpy as np\n",
        "import pandas as pd\n",
        "import seaborn as sns\n",
        "import matplotlib.pyplot as plt\n",
        "\n"
      ]
    },
    {
      "cell_type": "markdown",
      "metadata": {
        "id": "h_Sh51Xy8DC1"
      },
      "source": [
        "## Data Wrangling"
      ]
    },
    {
      "cell_type": "markdown",
      "metadata": {
        "id": "sXU2GBYu8DC1"
      },
      "source": [
        "### Gathering Data"
      ]
    },
    {
      "cell_type": "code",
      "execution_count": 5,
      "metadata": {
        "colab": {
          "base_uri": "https://localhost:8080/",
          "height": 206
        },
        "id": "zjCBk1BI8DC1",
        "outputId": "26d784f0-abb3-437e-dfe4-ff4c12c2e5a2"
      },
      "outputs": [
        {
          "data": {
            "text/html": [
              "<div>\n",
              "<style scoped>\n",
              "    .dataframe tbody tr th:only-of-type {\n",
              "        vertical-align: middle;\n",
              "    }\n",
              "\n",
              "    .dataframe tbody tr th {\n",
              "        vertical-align: top;\n",
              "    }\n",
              "\n",
              "    .dataframe thead th {\n",
              "        text-align: right;\n",
              "    }\n",
              "</style>\n",
              "<table border=\"1\" class=\"dataframe\">\n",
              "  <thead>\n",
              "    <tr style=\"text-align: right;\">\n",
              "      <th></th>\n",
              "      <th>instant</th>\n",
              "      <th>dteday</th>\n",
              "      <th>season</th>\n",
              "      <th>yr</th>\n",
              "      <th>mnth</th>\n",
              "      <th>hr</th>\n",
              "      <th>holiday</th>\n",
              "      <th>weekday</th>\n",
              "      <th>workingday</th>\n",
              "      <th>weathersit</th>\n",
              "      <th>temp</th>\n",
              "      <th>atemp</th>\n",
              "      <th>hum</th>\n",
              "      <th>windspeed</th>\n",
              "      <th>casual</th>\n",
              "      <th>registered</th>\n",
              "      <th>cnt</th>\n",
              "    </tr>\n",
              "  </thead>\n",
              "  <tbody>\n",
              "    <tr>\n",
              "      <th>0</th>\n",
              "      <td>1</td>\n",
              "      <td>2011-01-01</td>\n",
              "      <td>1</td>\n",
              "      <td>0</td>\n",
              "      <td>1</td>\n",
              "      <td>0</td>\n",
              "      <td>0</td>\n",
              "      <td>6</td>\n",
              "      <td>0</td>\n",
              "      <td>1</td>\n",
              "      <td>0.24</td>\n",
              "      <td>0.2879</td>\n",
              "      <td>0.81</td>\n",
              "      <td>0.0</td>\n",
              "      <td>3</td>\n",
              "      <td>13</td>\n",
              "      <td>16</td>\n",
              "    </tr>\n",
              "    <tr>\n",
              "      <th>1</th>\n",
              "      <td>2</td>\n",
              "      <td>2011-01-01</td>\n",
              "      <td>1</td>\n",
              "      <td>0</td>\n",
              "      <td>1</td>\n",
              "      <td>1</td>\n",
              "      <td>0</td>\n",
              "      <td>6</td>\n",
              "      <td>0</td>\n",
              "      <td>1</td>\n",
              "      <td>0.22</td>\n",
              "      <td>0.2727</td>\n",
              "      <td>0.80</td>\n",
              "      <td>0.0</td>\n",
              "      <td>8</td>\n",
              "      <td>32</td>\n",
              "      <td>40</td>\n",
              "    </tr>\n",
              "    <tr>\n",
              "      <th>2</th>\n",
              "      <td>3</td>\n",
              "      <td>2011-01-01</td>\n",
              "      <td>1</td>\n",
              "      <td>0</td>\n",
              "      <td>1</td>\n",
              "      <td>2</td>\n",
              "      <td>0</td>\n",
              "      <td>6</td>\n",
              "      <td>0</td>\n",
              "      <td>1</td>\n",
              "      <td>0.22</td>\n",
              "      <td>0.2727</td>\n",
              "      <td>0.80</td>\n",
              "      <td>0.0</td>\n",
              "      <td>5</td>\n",
              "      <td>27</td>\n",
              "      <td>32</td>\n",
              "    </tr>\n",
              "    <tr>\n",
              "      <th>3</th>\n",
              "      <td>4</td>\n",
              "      <td>2011-01-01</td>\n",
              "      <td>1</td>\n",
              "      <td>0</td>\n",
              "      <td>1</td>\n",
              "      <td>3</td>\n",
              "      <td>0</td>\n",
              "      <td>6</td>\n",
              "      <td>0</td>\n",
              "      <td>1</td>\n",
              "      <td>0.24</td>\n",
              "      <td>0.2879</td>\n",
              "      <td>0.75</td>\n",
              "      <td>0.0</td>\n",
              "      <td>3</td>\n",
              "      <td>10</td>\n",
              "      <td>13</td>\n",
              "    </tr>\n",
              "    <tr>\n",
              "      <th>4</th>\n",
              "      <td>5</td>\n",
              "      <td>2011-01-01</td>\n",
              "      <td>1</td>\n",
              "      <td>0</td>\n",
              "      <td>1</td>\n",
              "      <td>4</td>\n",
              "      <td>0</td>\n",
              "      <td>6</td>\n",
              "      <td>0</td>\n",
              "      <td>1</td>\n",
              "      <td>0.24</td>\n",
              "      <td>0.2879</td>\n",
              "      <td>0.75</td>\n",
              "      <td>0.0</td>\n",
              "      <td>0</td>\n",
              "      <td>1</td>\n",
              "      <td>1</td>\n",
              "    </tr>\n",
              "  </tbody>\n",
              "</table>\n",
              "</div>"
            ],
            "text/plain": [
              "   instant      dteday  season  yr  mnth  hr  holiday  weekday  workingday  \\\n",
              "0        1  2011-01-01       1   0     1   0        0        6           0   \n",
              "1        2  2011-01-01       1   0     1   1        0        6           0   \n",
              "2        3  2011-01-01       1   0     1   2        0        6           0   \n",
              "3        4  2011-01-01       1   0     1   3        0        6           0   \n",
              "4        5  2011-01-01       1   0     1   4        0        6           0   \n",
              "\n",
              "   weathersit  temp   atemp   hum  windspeed  casual  registered  cnt  \n",
              "0           1  0.24  0.2879  0.81        0.0       3          13   16  \n",
              "1           1  0.22  0.2727  0.80        0.0       8          32   40  \n",
              "2           1  0.22  0.2727  0.80        0.0       5          27   32  \n",
              "3           1  0.24  0.2879  0.75        0.0       3          10   13  \n",
              "4           1  0.24  0.2879  0.75        0.0       0           1    1  "
            ]
          },
          "execution_count": 5,
          "metadata": {},
          "output_type": "execute_result"
        }
      ],
      "source": [
        "# Menerjemahkan CSV ke DF\n",
        "day_df = pd.read_csv('data/day.csv')\n",
        "hour_df = pd.read_csv('data/hour.csv')\n",
        "\n",
        "# MEMBACA DF\n",
        "day_df.head()\n",
        "hour_df.head()"
      ]
    },
    {
      "cell_type": "markdown",
      "metadata": {
        "id": "MMi6xGaDkbCi"
      },
      "source": [
        "**Insight:**\n",
        "- Data terdapat kondisi suhu, tanggal, jam, musim, hari, serta total pengguna casual, pengguna terdaftar, dan total keseluruhan, dll."
      ]
    },
    {
      "cell_type": "markdown",
      "metadata": {
        "id": "FHSiqaZp8DC1"
      },
      "source": [
        "### Assessing Data"
      ]
    },
    {
      "cell_type": "code",
      "execution_count": 6,
      "metadata": {
        "colab": {
          "base_uri": "https://localhost:8080/",
          "height": 1000
        },
        "id": "ax-3tEjc9Cj1",
        "outputId": "00853b93-0930-4643-bbf8-2aaba6ac1fe0"
      },
      "outputs": [
        {
          "name": "stdout",
          "output_type": "stream",
          "text": [
            "<class 'pandas.core.frame.DataFrame'>\n",
            "RangeIndex: 731 entries, 0 to 730\n",
            "Data columns (total 16 columns):\n",
            " #   Column      Non-Null Count  Dtype  \n",
            "---  ------      --------------  -----  \n",
            " 0   instant     731 non-null    int64  \n",
            " 1   dteday      731 non-null    object \n",
            " 2   season      731 non-null    int64  \n",
            " 3   yr          731 non-null    int64  \n",
            " 4   mnth        731 non-null    int64  \n",
            " 5   holiday     731 non-null    int64  \n",
            " 6   weekday     731 non-null    int64  \n",
            " 7   workingday  731 non-null    int64  \n",
            " 8   weathersit  731 non-null    int64  \n",
            " 9   temp        731 non-null    float64\n",
            " 10  atemp       731 non-null    float64\n",
            " 11  hum         731 non-null    float64\n",
            " 12  windspeed   731 non-null    float64\n",
            " 13  casual      731 non-null    int64  \n",
            " 14  registered  731 non-null    int64  \n",
            " 15  cnt         731 non-null    int64  \n",
            "dtypes: float64(4), int64(11), object(1)\n",
            "memory usage: 91.5+ KB\n",
            "<class 'pandas.core.frame.DataFrame'>\n",
            "RangeIndex: 17379 entries, 0 to 17378\n",
            "Data columns (total 17 columns):\n",
            " #   Column      Non-Null Count  Dtype  \n",
            "---  ------      --------------  -----  \n",
            " 0   instant     17379 non-null  int64  \n",
            " 1   dteday      17379 non-null  object \n",
            " 2   season      17379 non-null  int64  \n",
            " 3   yr          17379 non-null  int64  \n",
            " 4   mnth        17379 non-null  int64  \n",
            " 5   hr          17379 non-null  int64  \n",
            " 6   holiday     17379 non-null  int64  \n",
            " 7   weekday     17379 non-null  int64  \n",
            " 8   workingday  17379 non-null  int64  \n",
            " 9   weathersit  17379 non-null  int64  \n",
            " 10  temp        17379 non-null  float64\n",
            " 11  atemp       17379 non-null  float64\n",
            " 12  hum         17379 non-null  float64\n",
            " 13  windspeed   17379 non-null  float64\n",
            " 14  casual      17379 non-null  int64  \n",
            " 15  registered  17379 non-null  int64  \n",
            " 16  cnt         17379 non-null  int64  \n",
            "dtypes: float64(4), int64(12), object(1)\n",
            "memory usage: 2.3+ MB\n",
            "instant       0\n",
            "dteday        0\n",
            "season        0\n",
            "yr            0\n",
            "mnth          0\n",
            "holiday       0\n",
            "weekday       0\n",
            "workingday    0\n",
            "weathersit    0\n",
            "temp          0\n",
            "atemp         0\n",
            "hum           0\n",
            "windspeed     0\n",
            "casual        0\n",
            "registered    0\n",
            "cnt           0\n",
            "dtype: int64\n",
            "instant       0\n",
            "dteday        0\n",
            "season        0\n",
            "yr            0\n",
            "mnth          0\n",
            "hr            0\n",
            "holiday       0\n",
            "weekday       0\n",
            "workingday    0\n",
            "weathersit    0\n",
            "temp          0\n",
            "atemp         0\n",
            "hum           0\n",
            "windspeed     0\n",
            "casual        0\n",
            "registered    0\n",
            "cnt           0\n",
            "dtype: int64\n",
            "Jumlah Duplikat:  0\n",
            "Jumlah Duplikat:  0\n",
            "          instant        season            yr          mnth            hr  \\\n",
            "count  17379.0000  17379.000000  17379.000000  17379.000000  17379.000000   \n",
            "mean    8690.0000      2.501640      0.502561      6.537775     11.546752   \n",
            "std     5017.0295      1.106918      0.500008      3.438776      6.914405   \n",
            "min        1.0000      1.000000      0.000000      1.000000      0.000000   \n",
            "25%     4345.5000      2.000000      0.000000      4.000000      6.000000   \n",
            "50%     8690.0000      3.000000      1.000000      7.000000     12.000000   \n",
            "75%    13034.5000      3.000000      1.000000     10.000000     18.000000   \n",
            "max    17379.0000      4.000000      1.000000     12.000000     23.000000   \n",
            "\n",
            "            holiday       weekday    workingday    weathersit          temp  \\\n",
            "count  17379.000000  17379.000000  17379.000000  17379.000000  17379.000000   \n",
            "mean       0.028770      3.003683      0.682721      1.425283      0.496987   \n",
            "std        0.167165      2.005771      0.465431      0.639357      0.192556   \n",
            "min        0.000000      0.000000      0.000000      1.000000      0.020000   \n",
            "25%        0.000000      1.000000      0.000000      1.000000      0.340000   \n",
            "50%        0.000000      3.000000      1.000000      1.000000      0.500000   \n",
            "75%        0.000000      5.000000      1.000000      2.000000      0.660000   \n",
            "max        1.000000      6.000000      1.000000      4.000000      1.000000   \n",
            "\n",
            "              atemp           hum     windspeed        casual    registered  \\\n",
            "count  17379.000000  17379.000000  17379.000000  17379.000000  17379.000000   \n",
            "mean       0.475775      0.627229      0.190098     35.676218    153.786869   \n",
            "std        0.171850      0.192930      0.122340     49.305030    151.357286   \n",
            "min        0.000000      0.000000      0.000000      0.000000      0.000000   \n",
            "25%        0.333300      0.480000      0.104500      4.000000     34.000000   \n",
            "50%        0.484800      0.630000      0.194000     17.000000    115.000000   \n",
            "75%        0.621200      0.780000      0.253700     48.000000    220.000000   \n",
            "max        1.000000      1.000000      0.850700    367.000000    886.000000   \n",
            "\n",
            "                cnt  \n",
            "count  17379.000000  \n",
            "mean     189.463088  \n",
            "std      181.387599  \n",
            "min        1.000000  \n",
            "25%       40.000000  \n",
            "50%      142.000000  \n",
            "75%      281.000000  \n",
            "max      977.000000  \n",
            "          instant      season          yr        mnth     holiday     weekday  \\\n",
            "count  731.000000  731.000000  731.000000  731.000000  731.000000  731.000000   \n",
            "mean   366.000000    2.496580    0.500684    6.519836    0.028728    2.997264   \n",
            "std    211.165812    1.110807    0.500342    3.451913    0.167155    2.004787   \n",
            "min      1.000000    1.000000    0.000000    1.000000    0.000000    0.000000   \n",
            "25%    183.500000    2.000000    0.000000    4.000000    0.000000    1.000000   \n",
            "50%    366.000000    3.000000    1.000000    7.000000    0.000000    3.000000   \n",
            "75%    548.500000    3.000000    1.000000   10.000000    0.000000    5.000000   \n",
            "max    731.000000    4.000000    1.000000   12.000000    1.000000    6.000000   \n",
            "\n",
            "       workingday  weathersit        temp       atemp         hum   windspeed  \\\n",
            "count  731.000000  731.000000  731.000000  731.000000  731.000000  731.000000   \n",
            "mean     0.683995    1.395349    0.495385    0.474354    0.627894    0.190486   \n",
            "std      0.465233    0.544894    0.183051    0.162961    0.142429    0.077498   \n",
            "min      0.000000    1.000000    0.059130    0.079070    0.000000    0.022392   \n",
            "25%      0.000000    1.000000    0.337083    0.337842    0.520000    0.134950   \n",
            "50%      1.000000    1.000000    0.498333    0.486733    0.626667    0.180975   \n",
            "75%      1.000000    2.000000    0.655417    0.608602    0.730209    0.233214   \n",
            "max      1.000000    3.000000    0.861667    0.840896    0.972500    0.507463   \n",
            "\n",
            "            casual   registered          cnt  \n",
            "count   731.000000   731.000000   731.000000  \n",
            "mean    848.176471  3656.172367  4504.348837  \n",
            "std     686.622488  1560.256377  1937.211452  \n",
            "min       2.000000    20.000000    22.000000  \n",
            "25%     315.500000  2497.000000  3152.000000  \n",
            "50%     713.000000  3662.000000  4548.000000  \n",
            "75%    1096.000000  4776.500000  5956.000000  \n",
            "max    3410.000000  6946.000000  8714.000000  \n"
          ]
        },
        {
          "data": {
            "text/plain": [
              "'\\n\\n\\n\\nTidak terdapat data duplikasi ataupun data yang dengan nilai yang kosong.\\n\\nTerdapat data dengan nilai tanggal namun bertipe object.\\n\\n\\ntidak ada nilai yang aneh dan inakurat. Namun, terdapat total jumlah data hour yang kurang\\nsinkron dengan total jumlah day\\n\\nTotal data day_df : 731 = 731 Hari\\nTotal data hour_df : 17379 jam = 724 Hari\\n\\n\\n'"
            ]
          },
          "execution_count": 6,
          "metadata": {},
          "output_type": "execute_result"
        }
      ],
      "source": [
        "\"\"\"\n",
        "Melakukan pengecekan kedua data frame untuk dibersihkan jika terdapat kriteria data sbb :\n",
        "-Duplikasi data\n",
        "-Data yang kosong\n",
        "-Tipe data yang kurang tepat\n",
        "-Data yang inakurat\n",
        "-Data yang Aneh, dll.\n",
        "\n",
        "\n",
        "\n",
        "\"\"\"\n",
        "day_df.info()\n",
        "day_df.describe()\n",
        "hour_df.info()\n",
        "hour_df.describe()\n",
        "print(day_df.isna().sum())\n",
        "print(hour_df.isna().sum())\n",
        "print(\"Jumlah Duplikat: \", day_df.duplicated().sum())\n",
        "print(\"Jumlah Duplikat: \", hour_df.duplicated().sum())\n",
        "print(hour_df.describe())\n",
        "print(day_df.describe())\n",
        "\n",
        "\"\"\"\n",
        "\n",
        "\n",
        "\n",
        "Tidak terdapat data duplikasi ataupun data yang dengan nilai yang kosong.\n",
        "\n",
        "Terdapat data dengan nilai tanggal namun bertipe object.\n",
        "\n",
        "\n",
        "tidak ada nilai yang aneh dan inakurat. Namun, terdapat total jumlah data hour yang kurang\n",
        "sinkron dengan total jumlah day\n",
        "\n",
        "Total data day_df : 731 = 731 Hari\n",
        "Total data hour_df : 17379 jam = 724 Hari\n",
        "\n",
        "\n",
        "\"\"\"\n",
        "\n",
        "\n"
      ]
    },
    {
      "cell_type": "markdown",
      "metadata": {
        "id": "7dtxhAPrkhPL"
      },
      "source": [
        "**Insight:**\n",
        "- Hanya terdapat total data yang tidak sinkron antara dua df yang akan di cek di tahap cleaning data\n",
        "- Tidak terdapat indikasi missing values, duplicated values, inaccurate values, dll\n",
        "- Terdapat fitur tanggal yang bertipe object, akan dikonversi ke datetime"
      ]
    },
    {
      "cell_type": "markdown",
      "metadata": {
        "id": "N58-_-tMtqID"
      },
      "source": []
    },
    {
      "cell_type": "markdown",
      "metadata": {
        "id": "EhN5R4hr8DC1"
      },
      "source": [
        "### Cleaning Data"
      ]
    },
    {
      "cell_type": "code",
      "execution_count": 7,
      "metadata": {
        "colab": {
          "base_uri": "https://localhost:8080/",
          "height": 1000
        },
        "id": "jVnYpprE9Evz",
        "outputId": "3bb450a7-17df-49d3-8434-b6279bbad945"
      },
      "outputs": [
        {
          "name": "stdout",
          "output_type": "stream",
          "text": [
            "instant_x       0\n",
            "dteday          0\n",
            "season_x        0\n",
            "yr_x            0\n",
            "mnth_x          0\n",
            "holiday_x       0\n",
            "weekday_x       0\n",
            "workingday_x    0\n",
            "weathersit_x    0\n",
            "temp_x          0\n",
            "atemp_x         0\n",
            "hum_x           0\n",
            "windspeed_x     0\n",
            "casual_x        0\n",
            "registered_x    0\n",
            "cnt_x           0\n",
            "instant_y       0\n",
            "season_y        0\n",
            "yr_y            0\n",
            "mnth_y          0\n",
            "hr              0\n",
            "holiday_y       0\n",
            "weekday_y       0\n",
            "workingday_y    0\n",
            "weathersit_y    0\n",
            "temp_y          0\n",
            "atemp_y         0\n",
            "hum_y           0\n",
            "windspeed_y     0\n",
            "casual_y        0\n",
            "registered_y    0\n",
            "cnt_y           0\n",
            "dtype: int64\n",
            "hr\n",
            "0     726\n",
            "1     724\n",
            "2     715\n",
            "3     697\n",
            "4     697\n",
            "5     717\n",
            "6     725\n",
            "7     727\n",
            "8     727\n",
            "9     727\n",
            "10    727\n",
            "11    727\n",
            "12    728\n",
            "13    729\n",
            "14    729\n",
            "15    729\n",
            "16    730\n",
            "17    730\n",
            "18    728\n",
            "19    728\n",
            "20    728\n",
            "21    728\n",
            "22    728\n",
            "23    728\n",
            "Name: count, dtype: int64\n"
          ]
        },
        {
          "data": {
            "text/html": [
              "<div>\n",
              "<style scoped>\n",
              "    .dataframe tbody tr th:only-of-type {\n",
              "        vertical-align: middle;\n",
              "    }\n",
              "\n",
              "    .dataframe tbody tr th {\n",
              "        vertical-align: top;\n",
              "    }\n",
              "\n",
              "    .dataframe thead th {\n",
              "        text-align: right;\n",
              "    }\n",
              "</style>\n",
              "<table border=\"1\" class=\"dataframe\">\n",
              "  <thead>\n",
              "    <tr style=\"text-align: right;\">\n",
              "      <th></th>\n",
              "      <th>instant</th>\n",
              "      <th>dteday</th>\n",
              "      <th>season</th>\n",
              "      <th>yr</th>\n",
              "      <th>mnth</th>\n",
              "      <th>hr</th>\n",
              "      <th>holiday</th>\n",
              "      <th>weekday</th>\n",
              "      <th>workingday</th>\n",
              "      <th>weathersit</th>\n",
              "      <th>temp</th>\n",
              "      <th>atemp</th>\n",
              "      <th>hum</th>\n",
              "      <th>windspeed</th>\n",
              "      <th>casual</th>\n",
              "      <th>registered</th>\n",
              "      <th>cnt</th>\n",
              "    </tr>\n",
              "  </thead>\n",
              "  <tbody>\n",
              "    <tr>\n",
              "      <th>0</th>\n",
              "      <td>1</td>\n",
              "      <td>2011-01-01</td>\n",
              "      <td>1</td>\n",
              "      <td>0</td>\n",
              "      <td>1</td>\n",
              "      <td>0</td>\n",
              "      <td>0</td>\n",
              "      <td>6</td>\n",
              "      <td>0</td>\n",
              "      <td>1</td>\n",
              "      <td>0.24</td>\n",
              "      <td>0.2879</td>\n",
              "      <td>0.81</td>\n",
              "      <td>0.0</td>\n",
              "      <td>3</td>\n",
              "      <td>13</td>\n",
              "      <td>16</td>\n",
              "    </tr>\n",
              "    <tr>\n",
              "      <th>1</th>\n",
              "      <td>2</td>\n",
              "      <td>2011-01-01</td>\n",
              "      <td>1</td>\n",
              "      <td>0</td>\n",
              "      <td>1</td>\n",
              "      <td>1</td>\n",
              "      <td>0</td>\n",
              "      <td>6</td>\n",
              "      <td>0</td>\n",
              "      <td>1</td>\n",
              "      <td>0.22</td>\n",
              "      <td>0.2727</td>\n",
              "      <td>0.80</td>\n",
              "      <td>0.0</td>\n",
              "      <td>8</td>\n",
              "      <td>32</td>\n",
              "      <td>40</td>\n",
              "    </tr>\n",
              "    <tr>\n",
              "      <th>2</th>\n",
              "      <td>3</td>\n",
              "      <td>2011-01-01</td>\n",
              "      <td>1</td>\n",
              "      <td>0</td>\n",
              "      <td>1</td>\n",
              "      <td>2</td>\n",
              "      <td>0</td>\n",
              "      <td>6</td>\n",
              "      <td>0</td>\n",
              "      <td>1</td>\n",
              "      <td>0.22</td>\n",
              "      <td>0.2727</td>\n",
              "      <td>0.80</td>\n",
              "      <td>0.0</td>\n",
              "      <td>5</td>\n",
              "      <td>27</td>\n",
              "      <td>32</td>\n",
              "    </tr>\n",
              "    <tr>\n",
              "      <th>3</th>\n",
              "      <td>4</td>\n",
              "      <td>2011-01-01</td>\n",
              "      <td>1</td>\n",
              "      <td>0</td>\n",
              "      <td>1</td>\n",
              "      <td>3</td>\n",
              "      <td>0</td>\n",
              "      <td>6</td>\n",
              "      <td>0</td>\n",
              "      <td>1</td>\n",
              "      <td>0.24</td>\n",
              "      <td>0.2879</td>\n",
              "      <td>0.75</td>\n",
              "      <td>0.0</td>\n",
              "      <td>3</td>\n",
              "      <td>10</td>\n",
              "      <td>13</td>\n",
              "    </tr>\n",
              "    <tr>\n",
              "      <th>4</th>\n",
              "      <td>5</td>\n",
              "      <td>2011-01-01</td>\n",
              "      <td>1</td>\n",
              "      <td>0</td>\n",
              "      <td>1</td>\n",
              "      <td>4</td>\n",
              "      <td>0</td>\n",
              "      <td>6</td>\n",
              "      <td>0</td>\n",
              "      <td>1</td>\n",
              "      <td>0.24</td>\n",
              "      <td>0.2879</td>\n",
              "      <td>0.75</td>\n",
              "      <td>0.0</td>\n",
              "      <td>0</td>\n",
              "      <td>1</td>\n",
              "      <td>1</td>\n",
              "    </tr>\n",
              "  </tbody>\n",
              "</table>\n",
              "</div>"
            ],
            "text/plain": [
              "   instant     dteday  season  yr  mnth  hr  holiday  weekday  workingday  \\\n",
              "0        1 2011-01-01       1   0     1   0        0        6           0   \n",
              "1        2 2011-01-01       1   0     1   1        0        6           0   \n",
              "2        3 2011-01-01       1   0     1   2        0        6           0   \n",
              "3        4 2011-01-01       1   0     1   3        0        6           0   \n",
              "4        5 2011-01-01       1   0     1   4        0        6           0   \n",
              "\n",
              "   weathersit  temp   atemp   hum  windspeed  casual  registered  cnt  \n",
              "0           1  0.24  0.2879  0.81        0.0       3          13   16  \n",
              "1           1  0.22  0.2727  0.80        0.0       8          32   40  \n",
              "2           1  0.22  0.2727  0.80        0.0       5          27   32  \n",
              "3           1  0.24  0.2879  0.75        0.0       3          10   13  \n",
              "4           1  0.24  0.2879  0.75        0.0       0           1    1  "
            ]
          },
          "execution_count": 7,
          "metadata": {},
          "output_type": "execute_result"
        }
      ],
      "source": [
        "# Mengubah tipe data dteday dari object menjadi datetime\n",
        "\n",
        "\n",
        "hour_df['dteday'] = pd.to_datetime(hour_df['dteday'])\n",
        "day_df['dteday'] = pd.to_datetime(day_df['dteday'])\n",
        "\n",
        "\n",
        "# Mengetahui kenapa ada total value yang tidak sinkron pada kedua data\n",
        "day_hour_df = pd.merge(\n",
        "        left = day_df,\n",
        "        right = hour_df,\n",
        "        how = 'outer',\n",
        "        left_on = 'dteday',\n",
        "        right_on = 'dteday'\n",
        "\n",
        ")\n",
        "\n",
        "day_hour_df.head()\n",
        "\n",
        "\n",
        "print(day_hour_df.isna().sum())\n",
        "\n",
        "print(day_hour_df.hr.value_counts().sort_index())\n",
        "\n",
        "'''\n",
        "Pada data hour_df seharusnya terdapat 731 x 24  total data atau 17544 total data\n",
        "agar sinkon dengan total data pada day_df yaitu 731 data atau 731 hari.\n",
        "Namun, ternyata hal ini dapat dijelaskan dari kode diatas yang baru kita lakukan dimana\n",
        "pemonitoran yang dilakukan seharusnya setiap jam setiap harinya, ternyata terdapat\n",
        "dimana hari-hari tertentu pemonitoran itu tidak lakukan, atau tidak ter-record.\n",
        "Bukan sebuah missing values.\n",
        "'''\n",
        "\n",
        "\n",
        "day_df.head()\n",
        "hour_df.head()"
      ]
    },
    {
      "cell_type": "markdown",
      "metadata": {
        "id": "Q_5ejIqckiSP"
      },
      "source": [
        "**Insight:**\n",
        "- Total data tidak sinkron hanya dikarenakan terdapat titik jam yang tidak dimonitor"
      ]
    },
    {
      "cell_type": "markdown",
      "metadata": {
        "id": "gp-Y6wU38DC1"
      },
      "source": [
        "## Exploratory Data Analysis (EDA)"
      ]
    },
    {
      "cell_type": "markdown",
      "metadata": {
        "id": "MW7WF2kr8DC1"
      },
      "source": [
        "### Explore ..."
      ]
    },
    {
      "cell_type": "code",
      "execution_count": 8,
      "metadata": {
        "colab": {
          "base_uri": "https://localhost:8080/",
          "height": 237
        },
        "id": "e9CQCZjk8DC2",
        "outputId": "d0c33bf0-4a5d-4fa0-a929-8e86ca7e9071"
      },
      "outputs": [
        {
          "data": {
            "text/html": [
              "<div>\n",
              "<style scoped>\n",
              "    .dataframe tbody tr th:only-of-type {\n",
              "        vertical-align: middle;\n",
              "    }\n",
              "\n",
              "    .dataframe tbody tr th {\n",
              "        vertical-align: top;\n",
              "    }\n",
              "\n",
              "    .dataframe thead th {\n",
              "        text-align: right;\n",
              "    }\n",
              "</style>\n",
              "<table border=\"1\" class=\"dataframe\">\n",
              "  <thead>\n",
              "    <tr style=\"text-align: right;\">\n",
              "      <th></th>\n",
              "      <th></th>\n",
              "      <th>casual_max</th>\n",
              "      <th>casual_mean</th>\n",
              "      <th>registered_max</th>\n",
              "      <th>registered_mean</th>\n",
              "      <th>cnt_max</th>\n",
              "      <th>cnt_mean</th>\n",
              "      <th>cnt_sum</th>\n",
              "    </tr>\n",
              "    <tr>\n",
              "      <th>yr</th>\n",
              "      <th>quarter</th>\n",
              "      <th></th>\n",
              "      <th></th>\n",
              "      <th></th>\n",
              "      <th></th>\n",
              "      <th></th>\n",
              "      <th></th>\n",
              "      <th></th>\n",
              "    </tr>\n",
              "  </thead>\n",
              "  <tbody>\n",
              "    <tr>\n",
              "      <th rowspan=\"4\" valign=\"top\">2010</th>\n",
              "      <th>Q1</th>\n",
              "      <td>1424</td>\n",
              "      <td>246.011111</td>\n",
              "      <td>2355</td>\n",
              "      <td>1425.644444</td>\n",
              "      <td>3239</td>\n",
              "      <td>1671.655556</td>\n",
              "      <td>150449</td>\n",
              "    </tr>\n",
              "    <tr>\n",
              "      <th>Q2</th>\n",
              "      <td>2355</td>\n",
              "      <td>923.164835</td>\n",
              "      <td>4488</td>\n",
              "      <td>3188.956044</td>\n",
              "      <td>5805</td>\n",
              "      <td>4112.120879</td>\n",
              "      <td>374203</td>\n",
              "    </tr>\n",
              "    <tr>\n",
              "      <th>Q3</th>\n",
              "      <td>3065</td>\n",
              "      <td>998.250000</td>\n",
              "      <td>4614</td>\n",
              "      <td>3408.815217</td>\n",
              "      <td>6043</td>\n",
              "      <td>4407.065217</td>\n",
              "      <td>405450</td>\n",
              "    </tr>\n",
              "    <tr>\n",
              "      <th>Q4</th>\n",
              "      <td>2397</td>\n",
              "      <td>535.478261</td>\n",
              "      <td>4267</td>\n",
              "      <td>2866.706522</td>\n",
              "      <td>5511</td>\n",
              "      <td>3402.184783</td>\n",
              "      <td>313001</td>\n",
              "    </tr>\n",
              "    <tr>\n",
              "      <th>2011</th>\n",
              "      <th>Q1</th>\n",
              "      <td>3155</td>\n",
              "      <td>541.846154</td>\n",
              "      <td>5893</td>\n",
              "      <td>3466.461538</td>\n",
              "      <td>8362</td>\n",
              "      <td>4008.307692</td>\n",
              "      <td>364756</td>\n",
              "    </tr>\n",
              "  </tbody>\n",
              "</table>\n",
              "</div>"
            ],
            "text/plain": [
              "              casual_max  casual_mean  registered_max  registered_mean  \\\n",
              "yr   quarter                                                             \n",
              "2010 Q1             1424   246.011111            2355      1425.644444   \n",
              "     Q2             2355   923.164835            4488      3188.956044   \n",
              "     Q3             3065   998.250000            4614      3408.815217   \n",
              "     Q4             2397   535.478261            4267      2866.706522   \n",
              "2011 Q1             3155   541.846154            5893      3466.461538   \n",
              "\n",
              "              cnt_max     cnt_mean  cnt_sum  \n",
              "yr   quarter                                 \n",
              "2010 Q1          3239  1671.655556   150449  \n",
              "     Q2          5805  4112.120879   374203  \n",
              "     Q3          6043  4407.065217   405450  \n",
              "     Q4          5511  3402.184783   313001  \n",
              "2011 Q1          8362  4008.307692   364756  "
            ]
          },
          "execution_count": 8,
          "metadata": {},
          "output_type": "execute_result"
        }
      ],
      "source": [
        "\"\"\"\n",
        "Terdapat banyak data kategorikal yang direpresentasikan sebagai integer,\n",
        "dimana maknanya sudah dijelaskan pada README.md yang disediakan di file zip\n",
        "asal data tersebut. Untuk itu mari kita mempermudahkan pengolahan data dengan\n",
        "mengubah tipe data integer ini ke object sesuai dengan maknanya\n",
        "agar memudahkan pengolahan data.\n",
        "\"\"\"\n",
        "\n",
        "\n",
        "# Konversi setiap data kategorikal yang memiliki tipe data integer ke tipe data object pada hour_df\n",
        "hour_df['workingday'] = hour_df.workingday.apply(lambda x:'non-working days' if x == 1 else 'workdays')\n",
        "hour_df['yr'] = hour_df.yr.apply(lambda x: 2010 if x == 0 else 2011)\n",
        "hour_df['season'] = hour_df.season.apply(lambda x:'springer' if x == 1 else ('summer' if x==2 else('fall' if x==3 else 'winter')))\n",
        "hour_df['time_cycle'] = hour_df.hr.apply(\n",
        "    lambda x: 'morning' if (x >= 4) & (x <= 11) else\n",
        "              ('midday/noon' if (x >= 12) & (x <= 15) else\n",
        "               ('afternoon' if (x >= 16) & (x <= 18) else 'night'))\n",
        ")\n",
        "\n",
        "# Konversi setiap data kategorikal yang memiliki tipe data integer ke tipe data object pada day_df\n",
        "day_df['workingday'] = day_df.workingday.apply(lambda x:'non-working days' if x == 1 else 'workdays')\n",
        "day_df['yr'] = day_df.yr.apply(lambda x: 2010 if x == 0 else 2011)\n",
        "day_df['season'] = day_df.season.apply(lambda x:'springer' if x == 1 else ('summer' if x==2 else('fall' if x==3 else 'winter')))\n",
        "\n",
        "\n",
        "\n",
        "# Mengetahui data pada time_cycle yang baru dibuat\n",
        "time_cycle_df = hour_df.groupby(by='time_cycle').instant.nunique().sort_values(ascending=False)\n",
        "\n",
        "\n",
        "\n",
        "# Mengetahui data user casual,registered, dan keseluruhan pada beberapa parameter\n",
        "some_df = day_df.groupby(by='mnth').agg({\n",
        "    'casual':['mean','min','max'],\n",
        "    'registered':['mean','min','max'],\n",
        "    'cnt':['mean','min','max']\n",
        "})\n",
        "some_df2 = day_df.groupby(by='season').agg({\n",
        "    'casual':['mean','min','max'],\n",
        "    'registered':['mean','min','max'],\n",
        "    'cnt':['mean','min','max']\n",
        "})\n",
        "\n",
        "some_df.head()\n",
        "some_df2.head()\n",
        "time_cycle_df.head()\n",
        "\n",
        "# Melakukan pivot untuk mengetahui akumulasi user berdasarkan data season, time cycle, working day\n",
        "all_time_df = hour_df.groupby(by=['season','time_cycle','workingday']).agg({\n",
        "\t\t 'casual' : ['max','mean'],\n",
        "\t\t 'registered' : ['max','mean'],\n",
        "\t\t 'cnt' : ['max','mean','sum']\n",
        "}).sort_values(ascending=False, by=('cnt','sum'))\n",
        "\n",
        "all_time_df.columns = ['_'.join(col) for col in all_time_df.columns]\n",
        "all_time_df = all_time_df.sort_values(by='cnt_sum', ascending=False)\n",
        "all_time_df.head(10)\n",
        "day_df['quarter'] = day_df['dteday'].dt.quarter.map({1: 'Q1', 2: 'Q2', 3: 'Q3', 4: 'Q4'})\n",
        "\n",
        "\n",
        "# Melakukan pivot untuk mengetahui akumulasi user berdasarkan year, dan quarter\n",
        "year_qrt_df = day_df.groupby(by=['yr','quarter']).agg({\n",
        "\t\t 'casual' : ['max','mean'],\n",
        "\t\t 'registered' : ['max','mean'],\n",
        "\t\t 'cnt' : ['max','mean','sum']\n",
        "}).sort_values(ascending=False, by=('cnt','mean'))\n",
        "\n",
        "\n",
        "year_qrt_df.columns = ['_'.join(col) for col in year_qrt_df.columns]\n",
        "year_qrt_df = year_qrt_df.sort_index(level=['yr', 'quarter'], ascending=[True, True])\n",
        "\n",
        "all_time_df.head()\n",
        "year_qrt_df.head()"
      ]
    },
    {
      "cell_type": "markdown",
      "metadata": {
        "id": "th_Lzl2Fkj9O"
      },
      "source": [
        "**Insight:**\n",
        "- Terdapat potensi pengelompokkan waktu berdasrkan musim, siklus waktu, dan hari kerja atau tidak, yang sudah kita kelompokkan lalu sudah kita operasikan agar kita mengetahui yang mana yang terdapat total penggunaan sepeda rental terbanyak. Jika pada musim maka kita mendapatkan fall. Jika pada time cycle maka kita mendapatkan morning\n",
        "-Terdapat potensi dimana kita bisa mengetahui apakah terdapat gejolak tren yang signifikan antara 2010 dan 2011"
      ]
    },
    {
      "cell_type": "markdown",
      "metadata": {
        "id": "zsyZjqak8DC2"
      },
      "source": [
        "## Visualization & Explanatory Analysis"
      ]
    },
    {
      "cell_type": "markdown",
      "metadata": {
        "id": "HZxOiQ6n8DC2"
      },
      "source": [
        "### Pertanyaan 1:"
      ]
    },
    {
      "cell_type": "code",
      "execution_count": 10,
      "metadata": {
        "colab": {
          "base_uri": "https://localhost:8080/",
          "height": 1000
        },
        "id": "1swJUdAD8DC2",
        "outputId": "df3c7bed-6929-4265-f85f-054a31b6bbbd"
      },
      "outputs": [
        {
          "name": "stderr",
          "output_type": "stream",
          "text": [
            "C:\\Users\\User\\AppData\\Local\\Temp\\ipykernel_4292\\4010443390.py:12: FutureWarning: \n",
            "\n",
            "Passing `palette` without assigning `hue` is deprecated and will be removed in v0.14.0. Assign the `x` variable to `hue` and set `legend=False` for the same effect.\n",
            "\n",
            "  sns.barplot(\n",
            "C:\\Users\\User\\AppData\\Local\\Temp\\ipykernel_4292\\4010443390.py:12: UserWarning: The palette list has more values (5) than needed (4), which may not be intended.\n",
            "  sns.barplot(\n"
          ]
        },
        {
          "data": {
            "image/png": "[encoded data removed]",
            "text/plain": [
              "<Figure size 1000x500 with 1 Axes>"
            ]
          },
          "metadata": {},
          "output_type": "display_data"
        },
        {
          "name": "stderr",
          "output_type": "stream",
          "text": [
            "C:\\Users\\User\\AppData\\Local\\Temp\\ipykernel_4292\\4010443390.py:27: FutureWarning: \n",
            "\n",
            "Passing `palette` without assigning `hue` is deprecated and will be removed in v0.14.0. Assign the `x` variable to `hue` and set `legend=False` for the same effect.\n",
            "\n",
            "  sns.barplot(\n",
            "C:\\Users\\User\\AppData\\Local\\Temp\\ipykernel_4292\\4010443390.py:27: UserWarning: The palette list has more values (5) than needed (4), which may not be intended.\n",
            "  sns.barplot(\n"
          ]
        },
        {
          "data": {
            "image/png": "[encoded data removed]",
            "text/plain": [
              "<Figure size 1000x500 with 1 Axes>"
            ]
          },
          "metadata": {},
          "output_type": "display_data"
        }
      ],
      "source": [
        "# Visualisasi data mencari tau total jumlah sepeda yang berhasil dirental berdasarkan musim\n",
        "colors = [\"#72BCD4\", \"#D3D3D3\", \"#D3D3D3\", \"#D3D3D3\", \"#D3D3D3\"]\n",
        "\n",
        "all_time_df.rename(columns={\n",
        "    \"cnt_sum\": \"total_customer\"\n",
        "}, inplace=True)\n",
        "\n",
        "all_time_df.reset_index()\n",
        "\n",
        "plt.figure(figsize=(10, 5))\n",
        "\n",
        "sns.barplot(\n",
        "  y=\"total_customer\",\n",
        "  x=\"season\",\n",
        "  data=all_time_df.sort_values(by=\"total_customer\", ascending=False),\n",
        "  palette=colors\n",
        ")\n",
        "plt.title(\"Total Amount of Bike Rental User Season based\", loc=\"center\", fontsize=15)\n",
        "plt.ylabel(None)\n",
        "plt.xlabel(None)\n",
        "plt.tick_params(axis='x', labelsize=12)\n",
        "plt.show()\n",
        "\n",
        "# Visualisasi data mencari tau total jumlah sepeda yang berhasil dirental berdasarkan siklus waktu\n",
        "plt.figure(figsize=(10, 5))\n",
        "\n",
        "sns.barplot(\n",
        "  y=\"total_customer\",\n",
        "  x=\"time_cycle\",\n",
        "  data=all_time_df.sort_values(by=\"total_customer\", ascending=False),\n",
        "  palette=colors\n",
        ")\n",
        "plt.title(\"Total Amount of Bike Rental User Time Cycle based\", loc=\"center\", fontsize=15)\n",
        "plt.ylabel(None)\n",
        "plt.xlabel(None)\n",
        "plt.tick_params(axis='x', labelsize=12)\n",
        "plt.show()\n",
        "\n"
      ]
    },
    {
      "cell_type": "markdown",
      "metadata": {
        "id": "DgHI7CiU8DC2"
      },
      "source": [
        "### Pertanyaan 2:"
      ]
    },
    {
      "cell_type": "code",
      "execution_count": 106,
      "metadata": {
        "colab": {
          "base_uri": "https://localhost:8080/",
          "height": 476
        },
        "id": "Go0lCsvO8DC2",
        "outputId": "9581f7a4-3fc0-4245-eab6-94c2234886ac"
      },
      "outputs": [
        {
          "data": {
            "image/png": "[encoded data removed]",
            "text/plain": [
              "<Figure size 1000x500 with 1 Axes>"
            ]
          },
          "metadata": {},
          "output_type": "display_data"
        }
      ],
      "source": [
        "# Visualisasi data mencari tren penggunaan sepeda rental antara 2011 - 2012 berdarkan rata-rata pada tiap tahun per quartal\n",
        "year_qrt_df['yearnquarter'] = year_qrt_df.index.get_level_values('yr').astype(str) + ' ' + year_qrt_df.index.get_level_values('quarter')\n",
        "year_qrt_df.reset_index()\n",
        "year_qrt_df.head(10)\n",
        "\n",
        "plt.figure(figsize=(10, 5))\n",
        "plt.plot(year_qrt_df[\"yearnquarter\"], year_qrt_df[\"cnt_mean\"], marker='o', linewidth=2, color=\"#72BCD4\")\n",
        "plt.title(\"Rental Bike usage trend 2011-2012 per quarter\", loc=\"center\", fontsize=20)\n",
        "plt.xticks(fontsize=10)\n",
        "plt.yticks(fontsize=10)\n",
        "plt.show()\n",
        "\n",
        "year_qrt = year_qrt_df.reset_index()\n",
        "all_time = all_time_df.reset_index()\n",
        "year_qrt.to_csv(\"time_qtr.csv\", index=False)\n",
        "all_time.to_csv(\"all_time.csv\", index=False)"
      ]
    },
    {
      "cell_type": "markdown",
      "metadata": {
        "id": "_0-36BDLklRg"
      },
      "source": [
        "**Insight:**\n",
        "- Tahun 2011 penggunaan sepeda rental mengalami kenaikkan yang cukup signifikan, dengan peak 2011 hampir menyentuh 2 kali lipat peak pada 2010."
      ]
    },
    {
      "cell_type": "markdown",
      "metadata": {
        "id": "9y4VUsmcYNZ5"
      },
      "source": [
        "## Analisis Lanjutan (Opsional)"
      ]
    },
    {
      "cell_type": "code",
      "execution_count": null,
      "metadata": {
        "id": "iWhnzsJGYUCO"
      },
      "outputs": [],
      "source": []
    },
    {
      "cell_type": "markdown",
      "metadata": {
        "id": "_WeHlCeX8DC2"
      },
      "source": [
        "## Conclusion"
      ]
    },
    {
      "cell_type": "markdown",
      "metadata": {
        "id": "ZTcyR48Y8DC2"
      },
      "source": [
        "- Berarti kondisi waktu yang dimana total penggunaan rental sepeda di titik paling tinggi jatuh pada fall/musim gugut jika berdasarkan musim dan pagi jika berdasarkan siklus waktu, mengindikasikan pengguna lebih nyaman memakai sepeda pada kondisi waktu seperti itu.\n",
        "- Pada 2012 trend penggunaan rental sepeda mengalami kenaikkan yang cukup signifikan, namun tidak konsisten, dimana ini mungkin berindikasi bahwa di masa depan, tren ini tidak akan berlanjut seperti ini."
      ]
    }
  ],
  "metadata": {
    "colab": {
      "provenance": []
    },
    "kernelspec": {
      "display_name": "Python 3",
      "language": "python",
      "name": "python3"
    },
    "language_info": {
      "codemirror_mode": {
        "name": "ipython",
        "version": 3
      },
      "file_extension": ".py",
      "mimetype": "text/x-python",
      "name": "python",
      "nbconvert_exporter": "python",
      "pygments_lexer": "ipython3",
      "version": "3.11.1"
    },
    "orig_nbformat": 4,
    "vscode": {
      "interpreter": {
        "hash": "972b3bf27e332e87b5379f2791f6ef9dfc79c71018c370b0d7423235e20fe4d7"
      }
    }
  },
  "nbformat": 4,
  "nbformat_minor": 0
}
